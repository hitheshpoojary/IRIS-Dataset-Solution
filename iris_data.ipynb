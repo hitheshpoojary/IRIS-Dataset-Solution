{
  "nbformat": 4,
  "nbformat_minor": 0,
  "metadata": {
    "colab": {
      "name": "iris_data.ipynb",
      "provenance": [],
      "collapsed_sections": []
    },
    "kernelspec": {
      "name": "python3",
      "display_name": "Python 3"
    }
  },
  "cells": [
    {
      "cell_type": "code",
      "metadata": {
        "id": "6LRXAgXrIl0Q",
        "colab_type": "code",
        "colab": {}
      },
      "source": [
        "import pandas as pd\n",
        "import numpy as np\n",
        "import matplotlib.pyplot as plt\n",
        "import seaborn as sns\n",
        "from sklearn import datasets\n",
        "import math\n",
        "%matplotlib inline"
      ],
      "execution_count": 7,
      "outputs": []
    },
    {
      "cell_type": "markdown",
      "metadata": {
        "id": "5lBailb-4RyK",
        "colab_type": "text"
      },
      "source": [
        "To make use of a function in a module we import the module with an import statement."
      ]
    },
    {
      "cell_type": "code",
      "metadata": {
        "id": "jaTiKH2kD2ZS",
        "colab_type": "code",
        "colab": {}
      },
      "source": [
        "from sklearn.model_selection import train_test_split\n",
        "from sklearn.preprocessing import StandardScaler\n",
        "from sklearn.decomposition import PCA"
      ],
      "execution_count": 8,
      "outputs": []
    },
    {
      "cell_type": "code",
      "metadata": {
        "id": "0oShebAGJWCU",
        "colab_type": "code",
        "colab": {}
      },
      "source": [
        "df=pd.read_csv(\"iris.txt\")\n",
        "## Importing the dataset"
      ],
      "execution_count": 9,
      "outputs": []
    },
    {
      "cell_type": "code",
      "metadata": {
        "id": "2zgGD6SIYhsb",
        "colab_type": "code",
        "colab": {
          "base_uri": "https://localhost:8080/",
          "height": 204
        },
        "outputId": "57b710cc-84ab-499a-8b63-4e7316ef8bad"
      },
      "source": [
        "df.head()"
      ],
      "execution_count": 10,
      "outputs": [
        {
          "output_type": "execute_result",
          "data": {
            "text/html": [
              "<div>\n",
              "<style scoped>\n",
              "    .dataframe tbody tr th:only-of-type {\n",
              "        vertical-align: middle;\n",
              "    }\n",
              "\n",
              "    .dataframe tbody tr th {\n",
              "        vertical-align: top;\n",
              "    }\n",
              "\n",
              "    .dataframe thead th {\n",
              "        text-align: right;\n",
              "    }\n",
              "</style>\n",
              "<table border=\"1\" class=\"dataframe\">\n",
              "  <thead>\n",
              "    <tr style=\"text-align: right;\">\n",
              "      <th></th>\n",
              "      <th>sepal_length</th>\n",
              "      <th>sepal_width</th>\n",
              "      <th>petal_length</th>\n",
              "      <th>petal_width</th>\n",
              "      <th>species</th>\n",
              "    </tr>\n",
              "  </thead>\n",
              "  <tbody>\n",
              "    <tr>\n",
              "      <th>0</th>\n",
              "      <td>5.1</td>\n",
              "      <td>3.5</td>\n",
              "      <td>1.4</td>\n",
              "      <td>0.2</td>\n",
              "      <td>Iris-setosa</td>\n",
              "    </tr>\n",
              "    <tr>\n",
              "      <th>1</th>\n",
              "      <td>4.9</td>\n",
              "      <td>3.0</td>\n",
              "      <td>1.4</td>\n",
              "      <td>0.2</td>\n",
              "      <td>Iris-setosa</td>\n",
              "    </tr>\n",
              "    <tr>\n",
              "      <th>2</th>\n",
              "      <td>4.7</td>\n",
              "      <td>3.2</td>\n",
              "      <td>1.3</td>\n",
              "      <td>0.2</td>\n",
              "      <td>Iris-setosa</td>\n",
              "    </tr>\n",
              "    <tr>\n",
              "      <th>3</th>\n",
              "      <td>4.6</td>\n",
              "      <td>3.1</td>\n",
              "      <td>1.5</td>\n",
              "      <td>0.2</td>\n",
              "      <td>Iris-setosa</td>\n",
              "    </tr>\n",
              "    <tr>\n",
              "      <th>4</th>\n",
              "      <td>5.0</td>\n",
              "      <td>3.6</td>\n",
              "      <td>1.4</td>\n",
              "      <td>0.2</td>\n",
              "      <td>Iris-setosa</td>\n",
              "    </tr>\n",
              "  </tbody>\n",
              "</table>\n",
              "</div>"
            ],
            "text/plain": [
              "   sepal_length  sepal_width  petal_length  petal_width      species\n",
              "0           5.1          3.5           1.4          0.2  Iris-setosa\n",
              "1           4.9          3.0           1.4          0.2  Iris-setosa\n",
              "2           4.7          3.2           1.3          0.2  Iris-setosa\n",
              "3           4.6          3.1           1.5          0.2  Iris-setosa\n",
              "4           5.0          3.6           1.4          0.2  Iris-setosa"
            ]
          },
          "metadata": {
            "tags": []
          },
          "execution_count": 10
        }
      ]
    },
    {
      "cell_type": "code",
      "metadata": {
        "id": "V3ozKXDKn5Dm",
        "colab_type": "code",
        "colab": {
          "base_uri": "https://localhost:8080/",
          "height": 204
        },
        "outputId": "f9cbb576-25f7-4fa8-da4e-bb5887f518a6"
      },
      "source": [
        "df.tail()"
      ],
      "execution_count": 11,
      "outputs": [
        {
          "output_type": "execute_result",
          "data": {
            "text/html": [
              "<div>\n",
              "<style scoped>\n",
              "    .dataframe tbody tr th:only-of-type {\n",
              "        vertical-align: middle;\n",
              "    }\n",
              "\n",
              "    .dataframe tbody tr th {\n",
              "        vertical-align: top;\n",
              "    }\n",
              "\n",
              "    .dataframe thead th {\n",
              "        text-align: right;\n",
              "    }\n",
              "</style>\n",
              "<table border=\"1\" class=\"dataframe\">\n",
              "  <thead>\n",
              "    <tr style=\"text-align: right;\">\n",
              "      <th></th>\n",
              "      <th>sepal_length</th>\n",
              "      <th>sepal_width</th>\n",
              "      <th>petal_length</th>\n",
              "      <th>petal_width</th>\n",
              "      <th>species</th>\n",
              "    </tr>\n",
              "  </thead>\n",
              "  <tbody>\n",
              "    <tr>\n",
              "      <th>145</th>\n",
              "      <td>6.7</td>\n",
              "      <td>3.0</td>\n",
              "      <td>5.2</td>\n",
              "      <td>2.3</td>\n",
              "      <td>Iris-virginica</td>\n",
              "    </tr>\n",
              "    <tr>\n",
              "      <th>146</th>\n",
              "      <td>6.3</td>\n",
              "      <td>2.5</td>\n",
              "      <td>5.0</td>\n",
              "      <td>1.9</td>\n",
              "      <td>Iris-virginica</td>\n",
              "    </tr>\n",
              "    <tr>\n",
              "      <th>147</th>\n",
              "      <td>6.5</td>\n",
              "      <td>3.0</td>\n",
              "      <td>5.2</td>\n",
              "      <td>2.0</td>\n",
              "      <td>Iris-virginica</td>\n",
              "    </tr>\n",
              "    <tr>\n",
              "      <th>148</th>\n",
              "      <td>6.2</td>\n",
              "      <td>3.4</td>\n",
              "      <td>5.4</td>\n",
              "      <td>2.3</td>\n",
              "      <td>Iris-virginica</td>\n",
              "    </tr>\n",
              "    <tr>\n",
              "      <th>149</th>\n",
              "      <td>5.9</td>\n",
              "      <td>3.0</td>\n",
              "      <td>5.1</td>\n",
              "      <td>1.8</td>\n",
              "      <td>Iris-virginica</td>\n",
              "    </tr>\n",
              "  </tbody>\n",
              "</table>\n",
              "</div>"
            ],
            "text/plain": [
              "     sepal_length  sepal_width  petal_length  petal_width         species\n",
              "145           6.7          3.0           5.2          2.3  Iris-virginica\n",
              "146           6.3          2.5           5.0          1.9  Iris-virginica\n",
              "147           6.5          3.0           5.2          2.0  Iris-virginica\n",
              "148           6.2          3.4           5.4          2.3  Iris-virginica\n",
              "149           5.9          3.0           5.1          1.8  Iris-virginica"
            ]
          },
          "metadata": {
            "tags": []
          },
          "execution_count": 11
        }
      ]
    },
    {
      "cell_type": "code",
      "metadata": {
        "id": "Ymg0h6tJX26P",
        "colab_type": "code",
        "colab": {
          "base_uri": "https://localhost:8080/",
          "height": 297
        },
        "outputId": "4ef447aa-b7f9-49c9-e06e-b03a50ccc3b3"
      },
      "source": [
        "df.describe()"
      ],
      "execution_count": 12,
      "outputs": [
        {
          "output_type": "execute_result",
          "data": {
            "text/html": [
              "<div>\n",
              "<style scoped>\n",
              "    .dataframe tbody tr th:only-of-type {\n",
              "        vertical-align: middle;\n",
              "    }\n",
              "\n",
              "    .dataframe tbody tr th {\n",
              "        vertical-align: top;\n",
              "    }\n",
              "\n",
              "    .dataframe thead th {\n",
              "        text-align: right;\n",
              "    }\n",
              "</style>\n",
              "<table border=\"1\" class=\"dataframe\">\n",
              "  <thead>\n",
              "    <tr style=\"text-align: right;\">\n",
              "      <th></th>\n",
              "      <th>sepal_length</th>\n",
              "      <th>sepal_width</th>\n",
              "      <th>petal_length</th>\n",
              "      <th>petal_width</th>\n",
              "    </tr>\n",
              "  </thead>\n",
              "  <tbody>\n",
              "    <tr>\n",
              "      <th>count</th>\n",
              "      <td>150.000000</td>\n",
              "      <td>150.000000</td>\n",
              "      <td>150.000000</td>\n",
              "      <td>150.000000</td>\n",
              "    </tr>\n",
              "    <tr>\n",
              "      <th>mean</th>\n",
              "      <td>5.843333</td>\n",
              "      <td>3.054000</td>\n",
              "      <td>3.758667</td>\n",
              "      <td>1.198667</td>\n",
              "    </tr>\n",
              "    <tr>\n",
              "      <th>std</th>\n",
              "      <td>0.828066</td>\n",
              "      <td>0.433594</td>\n",
              "      <td>1.764420</td>\n",
              "      <td>0.763161</td>\n",
              "    </tr>\n",
              "    <tr>\n",
              "      <th>min</th>\n",
              "      <td>4.300000</td>\n",
              "      <td>2.000000</td>\n",
              "      <td>1.000000</td>\n",
              "      <td>0.100000</td>\n",
              "    </tr>\n",
              "    <tr>\n",
              "      <th>25%</th>\n",
              "      <td>5.100000</td>\n",
              "      <td>2.800000</td>\n",
              "      <td>1.600000</td>\n",
              "      <td>0.300000</td>\n",
              "    </tr>\n",
              "    <tr>\n",
              "      <th>50%</th>\n",
              "      <td>5.800000</td>\n",
              "      <td>3.000000</td>\n",
              "      <td>4.350000</td>\n",
              "      <td>1.300000</td>\n",
              "    </tr>\n",
              "    <tr>\n",
              "      <th>75%</th>\n",
              "      <td>6.400000</td>\n",
              "      <td>3.300000</td>\n",
              "      <td>5.100000</td>\n",
              "      <td>1.800000</td>\n",
              "    </tr>\n",
              "    <tr>\n",
              "      <th>max</th>\n",
              "      <td>7.900000</td>\n",
              "      <td>4.400000</td>\n",
              "      <td>6.900000</td>\n",
              "      <td>2.500000</td>\n",
              "    </tr>\n",
              "  </tbody>\n",
              "</table>\n",
              "</div>"
            ],
            "text/plain": [
              "       sepal_length  sepal_width  petal_length  petal_width\n",
              "count    150.000000   150.000000    150.000000   150.000000\n",
              "mean       5.843333     3.054000      3.758667     1.198667\n",
              "std        0.828066     0.433594      1.764420     0.763161\n",
              "min        4.300000     2.000000      1.000000     0.100000\n",
              "25%        5.100000     2.800000      1.600000     0.300000\n",
              "50%        5.800000     3.000000      4.350000     1.300000\n",
              "75%        6.400000     3.300000      5.100000     1.800000\n",
              "max        7.900000     4.400000      6.900000     2.500000"
            ]
          },
          "metadata": {
            "tags": []
          },
          "execution_count": 12
        }
      ]
    },
    {
      "cell_type": "code",
      "metadata": {
        "id": "93bk2BYhYv54",
        "colab_type": "code",
        "colab": {
          "base_uri": "https://localhost:8080/",
          "height": 85
        },
        "outputId": "73cef798-aae0-4579-d4f1-f750017ade4a"
      },
      "source": [
        "df['species'].value_counts()"
      ],
      "execution_count": 13,
      "outputs": [
        {
          "output_type": "execute_result",
          "data": {
            "text/plain": [
              "Iris-setosa        50\n",
              "Iris-versicolor    50\n",
              "Iris-virginica     50\n",
              "Name: species, dtype: int64"
            ]
          },
          "metadata": {
            "tags": []
          },
          "execution_count": 13
        }
      ]
    },
    {
      "cell_type": "code",
      "metadata": {
        "id": "BxsFVNynB4lN",
        "colab_type": "code",
        "colab": {
          "base_uri": "https://localhost:8080/",
          "height": 221
        },
        "outputId": "9093674b-5020-4853-cfbb-1016b9028848"
      },
      "source": [
        "df.info()"
      ],
      "execution_count": 14,
      "outputs": [
        {
          "output_type": "stream",
          "text": [
            "<class 'pandas.core.frame.DataFrame'>\n",
            "RangeIndex: 150 entries, 0 to 149\n",
            "Data columns (total 5 columns):\n",
            " #   Column        Non-Null Count  Dtype  \n",
            "---  ------        --------------  -----  \n",
            " 0   sepal_length  150 non-null    float64\n",
            " 1   sepal_width   150 non-null    float64\n",
            " 2   petal_length  150 non-null    float64\n",
            " 3   petal_width   150 non-null    float64\n",
            " 4   species       150 non-null    object \n",
            "dtypes: float64(4), object(1)\n",
            "memory usage: 6.0+ KB\n"
          ],
          "name": "stdout"
        }
      ]
    },
    {
      "cell_type": "code",
      "metadata": {
        "id": "G2mKHoWaH2Jg",
        "colab_type": "code",
        "colab": {
          "base_uri": "https://localhost:8080/",
          "height": 765
        },
        "outputId": "e74578a6-14e5-42b5-9561-7b5a61232b3a"
      },
      "source": [
        "sns.pairplot(data=df,kind='scatter', hue='species')"
      ],
      "execution_count": 15,
      "outputs": [
        {
          "output_type": "execute_result",
          "data": {
            "text/plain": [
              "<seaborn.axisgrid.PairGrid at 0x7fc1628f33c8>"
            ]
          },
          "metadata": {
            "tags": []
          },
          "execution_count": 15
        },
        {
          "output_type": "display_data",
          "data": {
            "image/png": "[encoded data removed]",
            "text/plain": [
              "<Figure size 823.25x720 with 20 Axes>"
            ]
          },
          "metadata": {
            "tags": [],
            "needs_background": "light"
          }
        }
      ]
    },
    {
      "cell_type": "markdown",
      "metadata": {
        "id": "NDp-rkXNsLxT",
        "colab_type": "text"
      },
      "source": [
        "After graphing the features in a pair plot, it is clear that the relationship between pairs of features of a iris-setosa  is distinctly different from those of the other two species.\n",
        "There is some overlap in the pairwise relationships of the other two species, iris-versicolor and iris-virginica."
      ]
    },
    {
      "cell_type": "code",
      "metadata": {
        "id": "BTykYd5XJtSq",
        "colab_type": "code",
        "colab": {
          "base_uri": "https://localhost:8080/",
          "height": 287
        },
        "outputId": "fe4e5d31-61f7-4495-9dc2-09d1c040ec87"
      },
      "source": [
        "sns.heatmap(df.corr(),annot=True, cmap='inferno')"
      ],
      "execution_count": 16,
      "outputs": [
        {
          "output_type": "execute_result",
          "data": {
            "text/plain": [
              "<matplotlib.axes._subplots.AxesSubplot at 0x7fc15f9aae80>"
            ]
          },
          "metadata": {
            "tags": []
          },
          "execution_count": 16
        },
        {
          "output_type": "display_data",
          "data": {
            "image/png": "[encoded data removed]",
            "text/plain": [
              "<Figure size 432x288 with 2 Axes>"
            ]
          },
          "metadata": {
            "tags": [],
            "needs_background": "light"
          }
        }
      ]
    },
    {
      "cell_type": "markdown",
      "metadata": {
        "id": "6PfogTCFuss9",
        "colab_type": "text"
      },
      "source": [
        "Heatmap plots rectangular data as a color-encoded matrix."
      ]
    },
    {
      "cell_type": "code",
      "metadata": {
        "id": "yBz7nOtLMCbB",
        "colab_type": "code",
        "colab": {}
      },
      "source": [
        "sns.set_style('whitegrid')"
      ],
      "execution_count": 17,
      "outputs": []
    },
    {
      "cell_type": "markdown",
      "metadata": {
        "id": "r0tiXbNtvt9i",
        "colab_type": "text"
      },
      "source": [
        "It is used to set the aesthetic style of the plots."
      ]
    },
    {
      "cell_type": "code",
      "metadata": {
        "id": "bQ36QV7FDp7E",
        "colab_type": "code",
        "colab": {
          "base_uri": "https://localhost:8080/",
          "height": 660
        },
        "outputId": "78ed7940-0e4f-483f-c628-6b33b1f3702c"
      },
      "source": [
        " plt.figure(figsize=(18,12)) \n",
        "sns.countplot(x='petal_length', data=df, palette='plasma')"
      ],
      "execution_count": 18,
      "outputs": [
        {
          "output_type": "execute_result",
          "data": {
            "text/plain": [
              "<matplotlib.axes._subplots.AxesSubplot at 0x7fc15c95bd68>"
            ]
          },
          "metadata": {
            "tags": []
          },
          "execution_count": 18
        },
        {
          "output_type": "display_data",
          "data": {
            "image/png": "[encoded data removed]",
            "text/plain": [
              "<Figure size 1296x864 with 1 Axes>"
            ]
          },
          "metadata": {
            "tags": []
          }
        }
      ]
    },
    {
      "cell_type": "markdown",
      "metadata": {
        "id": "VcXrpzVIwENf",
        "colab_type": "text"
      },
      "source": [
        "It shows the counts of observations present in each categorical bin using bars."
      ]
    },
    {
      "cell_type": "code",
      "metadata": {
        "id": "1i--2n_KPCXh",
        "colab_type": "code",
        "colab": {
          "base_uri": "https://localhost:8080/",
          "height": 732
        },
        "outputId": "242dcbf5-5af3-4ec4-8d0d-334e621df0ab"
      },
      "source": [
        " plt.figure(figsize=(12,12)) \n",
        "sns.countplot(x='petal_width', data=df, palette='plasma' )"
      ],
      "execution_count": 19,
      "outputs": [
        {
          "output_type": "execute_result",
          "data": {
            "text/plain": [
              "<matplotlib.axes._subplots.AxesSubplot at 0x7fc15f9d7dd8>"
            ]
          },
          "metadata": {
            "tags": []
          },
          "execution_count": 19
        },
        {
          "output_type": "display_data",
          "data": {
            "image/png": "[encoded data removed]",
            "text/plain": [
              "<Figure size 864x864 with 1 Axes>"
            ]
          },
          "metadata": {
            "tags": []
          }
        }
      ]
    },
    {
      "cell_type": "code",
      "metadata": {
        "id": "7Y2-WrBhPffG",
        "colab_type": "code",
        "colab": {
          "base_uri": "https://localhost:8080/",
          "height": 732
        },
        "outputId": "2c299192-f3c6-4552-a1a3-411949edeba5"
      },
      "source": [
        " plt.figure(figsize=(12,12)) \n",
        "sns.countplot(x='sepal_length', data=df, palette='plasma' )"
      ],
      "execution_count": 20,
      "outputs": [
        {
          "output_type": "execute_result",
          "data": {
            "text/plain": [
              "<matplotlib.axes._subplots.AxesSubplot at 0x7fc15c7b9f98>"
            ]
          },
          "metadata": {
            "tags": []
          },
          "execution_count": 20
        },
        {
          "output_type": "display_data",
          "data": {
            "image/png": "[encoded data removed]",
            "text/plain": [
              "<Figure size 864x864 with 1 Axes>"
            ]
          },
          "metadata": {
            "tags": []
          }
        }
      ]
    },
    {
      "cell_type": "code",
      "metadata": {
        "id": "LbIjhktUPjWO",
        "colab_type": "code",
        "colab": {
          "base_uri": "https://localhost:8080/",
          "height": 732
        },
        "outputId": "71de7d6f-57d5-4cb3-946d-a8af014b609d"
      },
      "source": [
        " plt.figure(figsize=(12,12)) \n",
        "sns.countplot(x='sepal_width', data=df, palette='plasma' )"
      ],
      "execution_count": 21,
      "outputs": [
        {
          "output_type": "execute_result",
          "data": {
            "text/plain": [
              "<matplotlib.axes._subplots.AxesSubplot at 0x7fc15c87f128>"
            ]
          },
          "metadata": {
            "tags": []
          },
          "execution_count": 21
        },
        {
          "output_type": "display_data",
          "data": {
            "image/png": "[encoded data removed]",
            "text/plain": [
              "<Figure size 864x864 with 1 Axes>"
            ]
          },
          "metadata": {
            "tags": []
          }
        }
      ]
    },
    {
      "cell_type": "code",
      "metadata": {
        "id": "LK4x3FyMPqBN",
        "colab_type": "code",
        "colab": {
          "base_uri": "https://localhost:8080/",
          "height": 296
        },
        "outputId": "a452a326-0fc1-47d1-c9e1-2c5484e5d2f0"
      },
      "source": [
        "sns.countplot(x='species', data=df, palette='rainbow' )"
      ],
      "execution_count": 22,
      "outputs": [
        {
          "output_type": "execute_result",
          "data": {
            "text/plain": [
              "<matplotlib.axes._subplots.AxesSubplot at 0x7fc15c5e2da0>"
            ]
          },
          "metadata": {
            "tags": []
          },
          "execution_count": 22
        },
        {
          "output_type": "display_data",
          "data": {
            "image/png": "[encoded data removed]",
            "text/plain": [
              "<Figure size 432x288 with 1 Axes>"
            ]
          },
          "metadata": {
            "tags": []
          }
        }
      ]
    },
    {
      "cell_type": "code",
      "metadata": {
        "id": "LGr1msaQ_cxg",
        "colab_type": "code",
        "colab": {}
      },
      "source": [
        "B=df.iloc[:,0:4].values\n",
        "c=df.iloc[:,4].values"
      ],
      "execution_count": 23,
      "outputs": []
    },
    {
      "cell_type": "code",
      "metadata": {
        "id": "XnU7_B5ztEun",
        "colab_type": "code",
        "colab": {
          "base_uri": "https://localhost:8080/",
          "height": 441
        },
        "outputId": "3b652700-a8bc-433a-a7a3-2e37b199abf2"
      },
      "source": [
        "\n",
        "\n",
        "dict_label = {1: 'Iris-Setosa',\n",
        "              2: 'Iris-Versicolor',\n",
        "              3: 'Iris-Virgnica'}\n",
        "\n",
        "dict_feat = {0: 'sepal_length [cm]',\n",
        "                1: 'sepal_width [cm]',\n",
        "                2: 'petal_length [cm]',\n",
        "                3: 'petal_width [cm]'}\n",
        "\n",
        "with plt.style.context('seaborn-whitegrid'):\n",
        "    plt.figure(figsize=(8, 6))\n",
        "    for cnt in range(4):\n",
        "        plt.subplot(2, 2, cnt+1)\n",
        "        for lab in ('Iris-setosa', 'Iris-versicolor', 'Iris-virginica'):\n",
        "            plt.hist(B[c==lab, cnt],\n",
        "                     label=lab,\n",
        "                     bins=10,\n",
        "                     alpha=0.8,)\n",
        "        plt.xlabel(dict_feat[cnt])\n",
        "    plt.legend(loc='best', fancybox=True, fontsize=10)\n",
        "\n",
        "    plt.tight_layout()\n",
        "    plt.show()"
      ],
      "execution_count": 24,
      "outputs": [
        {
          "output_type": "display_data",
          "data": {
            "image/png": "[encoded data removed]",
            "text/plain": [
              "<Figure size 576x432 with 4 Axes>"
            ]
          },
          "metadata": {
            "tags": []
          }
        }
      ]
    },
    {
      "cell_type": "markdown",
      "metadata": {
        "id": "jgTSd0ultqhl",
        "colab_type": "text"
      },
      "source": [
        "The above histogram helps us to visualize how three different flower classes are distributed along four different features."
      ]
    },
    {
      "cell_type": "code",
      "metadata": {
        "id": "oEfjuhwgVQPR",
        "colab_type": "code",
        "colab": {}
      },
      "source": [
        "iris=datasets.load_iris()\n",
        "#Manually trigger loading and computation of this dataset’s data from disk into memory and return this dataset."
      ],
      "execution_count": 25,
      "outputs": []
    },
    {
      "cell_type": "code",
      "metadata": {
        "id": "XVVDfO73YqDe",
        "colab_type": "code",
        "colab": {
          "base_uri": "https://localhost:8080/",
          "height": 85
        },
        "outputId": "c2c5f1bc-100f-4ddd-cd53-f1abcf13a785"
      },
      "source": [
        "H=np.array(iris.data)\n",
        "H_cov=np.cov(H, rowvar=False)\n",
        "H_cov\n",
        "#Prints the covariance matrix "
      ],
      "execution_count": 26,
      "outputs": [
        {
          "output_type": "execute_result",
          "data": {
            "text/plain": [
              "array([[ 0.68569351, -0.042434  ,  1.27431544,  0.51627069],\n",
              "       [-0.042434  ,  0.18997942, -0.32965638, -0.12163937],\n",
              "       [ 1.27431544, -0.32965638,  3.11627785,  1.2956094 ],\n",
              "       [ 0.51627069, -0.12163937,  1.2956094 ,  0.58100626]])"
            ]
          },
          "metadata": {
            "tags": []
          },
          "execution_count": 26
        }
      ]
    },
    {
      "cell_type": "code",
      "metadata": {
        "id": "NEp7SrP1Z9N1",
        "colab_type": "code",
        "colab": {
          "base_uri": "https://localhost:8080/",
          "height": 173
        },
        "outputId": "b8fb58eb-2008-4c7f-be2a-f412399cd102"
      },
      "source": [
        "iris_covmat=pd.DataFrame(data=H_cov,columns=iris.feature_names)\n",
        "iris_covmat.index=iris.feature_names\n",
        "iris_covmat\n",
        "\n"
      ],
      "execution_count": 27,
      "outputs": [
        {
          "output_type": "execute_result",
          "data": {
            "text/html": [
              "<div>\n",
              "<style scoped>\n",
              "    .dataframe tbody tr th:only-of-type {\n",
              "        vertical-align: middle;\n",
              "    }\n",
              "\n",
              "    .dataframe tbody tr th {\n",
              "        vertical-align: top;\n",
              "    }\n",
              "\n",
              "    .dataframe thead th {\n",
              "        text-align: right;\n",
              "    }\n",
              "</style>\n",
              "<table border=\"1\" class=\"dataframe\">\n",
              "  <thead>\n",
              "    <tr style=\"text-align: right;\">\n",
              "      <th></th>\n",
              "      <th>sepal length (cm)</th>\n",
              "      <th>sepal width (cm)</th>\n",
              "      <th>petal length (cm)</th>\n",
              "      <th>petal width (cm)</th>\n",
              "    </tr>\n",
              "  </thead>\n",
              "  <tbody>\n",
              "    <tr>\n",
              "      <th>sepal length (cm)</th>\n",
              "      <td>0.685694</td>\n",
              "      <td>-0.042434</td>\n",
              "      <td>1.274315</td>\n",
              "      <td>0.516271</td>\n",
              "    </tr>\n",
              "    <tr>\n",
              "      <th>sepal width (cm)</th>\n",
              "      <td>-0.042434</td>\n",
              "      <td>0.189979</td>\n",
              "      <td>-0.329656</td>\n",
              "      <td>-0.121639</td>\n",
              "    </tr>\n",
              "    <tr>\n",
              "      <th>petal length (cm)</th>\n",
              "      <td>1.274315</td>\n",
              "      <td>-0.329656</td>\n",
              "      <td>3.116278</td>\n",
              "      <td>1.295609</td>\n",
              "    </tr>\n",
              "    <tr>\n",
              "      <th>petal width (cm)</th>\n",
              "      <td>0.516271</td>\n",
              "      <td>-0.121639</td>\n",
              "      <td>1.295609</td>\n",
              "      <td>0.581006</td>\n",
              "    </tr>\n",
              "  </tbody>\n",
              "</table>\n",
              "</div>"
            ],
            "text/plain": [
              "                   sepal length (cm)  ...  petal width (cm)\n",
              "sepal length (cm)           0.685694  ...          0.516271\n",
              "sepal width (cm)           -0.042434  ...         -0.121639\n",
              "petal length (cm)           1.274315  ...          1.295609\n",
              "petal width (cm)            0.516271  ...          0.581006\n",
              "\n",
              "[4 rows x 4 columns]"
            ]
          },
          "metadata": {
            "tags": []
          },
          "execution_count": 27
        }
      ]
    },
    {
      "cell_type": "code",
      "metadata": {
        "id": "gzI16RdYJs3z",
        "colab_type": "code",
        "colab": {
          "base_uri": "https://localhost:8080/",
          "height": 1000
        },
        "outputId": "992f81db-e1d6-4e0f-a715-4bfb80b65f07"
      },
      "source": [
        "print(H)"
      ],
      "execution_count": 28,
      "outputs": [
        {
          "output_type": "stream",
          "text": [
            "[[5.1 3.5 1.4 0.2]\n",
            " [4.9 3.  1.4 0.2]\n",
            " [4.7 3.2 1.3 0.2]\n",
            " [4.6 3.1 1.5 0.2]\n",
            " [5.  3.6 1.4 0.2]\n",
            " [5.4 3.9 1.7 0.4]\n",
            " [4.6 3.4 1.4 0.3]\n",
            " [5.  3.4 1.5 0.2]\n",
            " [4.4 2.9 1.4 0.2]\n",
            " [4.9 3.1 1.5 0.1]\n",
            " [5.4 3.7 1.5 0.2]\n",
            " [4.8 3.4 1.6 0.2]\n",
            " [4.8 3.  1.4 0.1]\n",
            " [4.3 3.  1.1 0.1]\n",
            " [5.8 4.  1.2 0.2]\n",
            " [5.7 4.4 1.5 0.4]\n",
            " [5.4 3.9 1.3 0.4]\n",
            " [5.1 3.5 1.4 0.3]\n",
            " [5.7 3.8 1.7 0.3]\n",
            " [5.1 3.8 1.5 0.3]\n",
            " [5.4 3.4 1.7 0.2]\n",
            " [5.1 3.7 1.5 0.4]\n",
            " [4.6 3.6 1.  0.2]\n",
            " [5.1 3.3 1.7 0.5]\n",
            " [4.8 3.4 1.9 0.2]\n",
            " [5.  3.  1.6 0.2]\n",
            " [5.  3.4 1.6 0.4]\n",
            " [5.2 3.5 1.5 0.2]\n",
            " [5.2 3.4 1.4 0.2]\n",
            " [4.7 3.2 1.6 0.2]\n",
            " [4.8 3.1 1.6 0.2]\n",
            " [5.4 3.4 1.5 0.4]\n",
            " [5.2 4.1 1.5 0.1]\n",
            " [5.5 4.2 1.4 0.2]\n",
            " [4.9 3.1 1.5 0.2]\n",
            " [5.  3.2 1.2 0.2]\n",
            " [5.5 3.5 1.3 0.2]\n",
            " [4.9 3.6 1.4 0.1]\n",
            " [4.4 3.  1.3 0.2]\n",
            " [5.1 3.4 1.5 0.2]\n",
            " [5.  3.5 1.3 0.3]\n",
            " [4.5 2.3 1.3 0.3]\n",
            " [4.4 3.2 1.3 0.2]\n",
            " [5.  3.5 1.6 0.6]\n",
            " [5.1 3.8 1.9 0.4]\n",
            " [4.8 3.  1.4 0.3]\n",
            " [5.1 3.8 1.6 0.2]\n",
            " [4.6 3.2 1.4 0.2]\n",
            " [5.3 3.7 1.5 0.2]\n",
            " [5.  3.3 1.4 0.2]\n",
            " [7.  3.2 4.7 1.4]\n",
            " [6.4 3.2 4.5 1.5]\n",
            " [6.9 3.1 4.9 1.5]\n",
            " [5.5 2.3 4.  1.3]\n",
            " [6.5 2.8 4.6 1.5]\n",
            " [5.7 2.8 4.5 1.3]\n",
            " [6.3 3.3 4.7 1.6]\n",
            " [4.9 2.4 3.3 1. ]\n",
            " [6.6 2.9 4.6 1.3]\n",
            " [5.2 2.7 3.9 1.4]\n",
            " [5.  2.  3.5 1. ]\n",
            " [5.9 3.  4.2 1.5]\n",
            " [6.  2.2 4.  1. ]\n",
            " [6.1 2.9 4.7 1.4]\n",
            " [5.6 2.9 3.6 1.3]\n",
            " [6.7 3.1 4.4 1.4]\n",
            " [5.6 3.  4.5 1.5]\n",
            " [5.8 2.7 4.1 1. ]\n",
            " [6.2 2.2 4.5 1.5]\n",
            " [5.6 2.5 3.9 1.1]\n",
            " [5.9 3.2 4.8 1.8]\n",
            " [6.1 2.8 4.  1.3]\n",
            " [6.3 2.5 4.9 1.5]\n",
            " [6.1 2.8 4.7 1.2]\n",
            " [6.4 2.9 4.3 1.3]\n",
            " [6.6 3.  4.4 1.4]\n",
            " [6.8 2.8 4.8 1.4]\n",
            " [6.7 3.  5.  1.7]\n",
            " [6.  2.9 4.5 1.5]\n",
            " [5.7 2.6 3.5 1. ]\n",
            " [5.5 2.4 3.8 1.1]\n",
            " [5.5 2.4 3.7 1. ]\n",
            " [5.8 2.7 3.9 1.2]\n",
            " [6.  2.7 5.1 1.6]\n",
            " [5.4 3.  4.5 1.5]\n",
            " [6.  3.4 4.5 1.6]\n",
            " [6.7 3.1 4.7 1.5]\n",
            " [6.3 2.3 4.4 1.3]\n",
            " [5.6 3.  4.1 1.3]\n",
            " [5.5 2.5 4.  1.3]\n",
            " [5.5 2.6 4.4 1.2]\n",
            " [6.1 3.  4.6 1.4]\n",
            " [5.8 2.6 4.  1.2]\n",
            " [5.  2.3 3.3 1. ]\n",
            " [5.6 2.7 4.2 1.3]\n",
            " [5.7 3.  4.2 1.2]\n",
            " [5.7 2.9 4.2 1.3]\n",
            " [6.2 2.9 4.3 1.3]\n",
            " [5.1 2.5 3.  1.1]\n",
            " [5.7 2.8 4.1 1.3]\n",
            " [6.3 3.3 6.  2.5]\n",
            " [5.8 2.7 5.1 1.9]\n",
            " [7.1 3.  5.9 2.1]\n",
            " [6.3 2.9 5.6 1.8]\n",
            " [6.5 3.  5.8 2.2]\n",
            " [7.6 3.  6.6 2.1]\n",
            " [4.9 2.5 4.5 1.7]\n",
            " [7.3 2.9 6.3 1.8]\n",
            " [6.7 2.5 5.8 1.8]\n",
            " [7.2 3.6 6.1 2.5]\n",
            " [6.5 3.2 5.1 2. ]\n",
            " [6.4 2.7 5.3 1.9]\n",
            " [6.8 3.  5.5 2.1]\n",
            " [5.7 2.5 5.  2. ]\n",
            " [5.8 2.8 5.1 2.4]\n",
            " [6.4 3.2 5.3 2.3]\n",
            " [6.5 3.  5.5 1.8]\n",
            " [7.7 3.8 6.7 2.2]\n",
            " [7.7 2.6 6.9 2.3]\n",
            " [6.  2.2 5.  1.5]\n",
            " [6.9 3.2 5.7 2.3]\n",
            " [5.6 2.8 4.9 2. ]\n",
            " [7.7 2.8 6.7 2. ]\n",
            " [6.3 2.7 4.9 1.8]\n",
            " [6.7 3.3 5.7 2.1]\n",
            " [7.2 3.2 6.  1.8]\n",
            " [6.2 2.8 4.8 1.8]\n",
            " [6.1 3.  4.9 1.8]\n",
            " [6.4 2.8 5.6 2.1]\n",
            " [7.2 3.  5.8 1.6]\n",
            " [7.4 2.8 6.1 1.9]\n",
            " [7.9 3.8 6.4 2. ]\n",
            " [6.4 2.8 5.6 2.2]\n",
            " [6.3 2.8 5.1 1.5]\n",
            " [6.1 2.6 5.6 1.4]\n",
            " [7.7 3.  6.1 2.3]\n",
            " [6.3 3.4 5.6 2.4]\n",
            " [6.4 3.1 5.5 1.8]\n",
            " [6.  3.  4.8 1.8]\n",
            " [6.9 3.1 5.4 2.1]\n",
            " [6.7 3.1 5.6 2.4]\n",
            " [6.9 3.1 5.1 2.3]\n",
            " [5.8 2.7 5.1 1.9]\n",
            " [6.8 3.2 5.9 2.3]\n",
            " [6.7 3.3 5.7 2.5]\n",
            " [6.7 3.  5.2 2.3]\n",
            " [6.3 2.5 5.  1.9]\n",
            " [6.5 3.  5.2 2. ]\n",
            " [6.2 3.4 5.4 2.3]\n",
            " [5.9 3.  5.1 1.8]]\n"
          ],
          "name": "stdout"
        }
      ]
    },
    {
      "cell_type": "code",
      "metadata": {
        "id": "macX8NyCJBlS",
        "colab_type": "code",
        "colab": {
          "base_uri": "https://localhost:8080/",
          "height": 136
        },
        "outputId": "9ba34a1d-2694-4961-aff2-a41945ae0600"
      },
      "source": [
        "print(iris_covmat)"
      ],
      "execution_count": 29,
      "outputs": [
        {
          "output_type": "stream",
          "text": [
            "                   sepal length (cm)  ...  petal width (cm)\n",
            "sepal length (cm)           0.685694  ...          0.516271\n",
            "sepal width (cm)           -0.042434  ...         -0.121639\n",
            "petal length (cm)           1.274315  ...          1.295609\n",
            "petal width (cm)            0.516271  ...          0.581006\n",
            "\n",
            "[4 rows x 4 columns]\n"
          ],
          "name": "stdout"
        }
      ]
    },
    {
      "cell_type": "code",
      "metadata": {
        "id": "dUxU62uIcICK",
        "colab_type": "code",
        "colab": {}
      },
      "source": [
        "eigen_values,eigen_vectors=np.linalg.eig(H_cov)\n",
        "\n"
      ],
      "execution_count": 30,
      "outputs": []
    },
    {
      "cell_type": "code",
      "metadata": {
        "id": "bu2rndGSVRMj",
        "colab_type": "code",
        "colab": {
          "base_uri": "https://localhost:8080/",
          "height": 85
        },
        "outputId": "1e8f62ba-5e36-4835-8444-fd96d95f68a1"
      },
      "source": [
        "#prints eigen vectors\n",
        "eigen_vectors"
      ],
      "execution_count": 31,
      "outputs": [
        {
          "output_type": "execute_result",
          "data": {
            "text/plain": [
              "array([[ 0.36138659, -0.65658877, -0.58202985,  0.31548719],\n",
              "       [-0.08452251, -0.73016143,  0.59791083, -0.3197231 ],\n",
              "       [ 0.85667061,  0.17337266,  0.07623608, -0.47983899],\n",
              "       [ 0.3582892 ,  0.07548102,  0.54583143,  0.75365743]])"
            ]
          },
          "metadata": {
            "tags": []
          },
          "execution_count": 31
        }
      ]
    },
    {
      "cell_type": "code",
      "metadata": {
        "id": "MGwE9l44fhaV",
        "colab_type": "code",
        "colab": {
          "base_uri": "https://localhost:8080/",
          "height": 34
        },
        "outputId": "57daa92f-9088-40ff-f84f-78c7e6934c82"
      },
      "source": [
        "#prints eigen values\n",
        "eigen_values\n"
      ],
      "execution_count": 32,
      "outputs": [
        {
          "output_type": "execute_result",
          "data": {
            "text/plain": [
              "array([4.22824171, 0.24267075, 0.0782095 , 0.02383509])"
            ]
          },
          "metadata": {
            "tags": []
          },
          "execution_count": 32
        }
      ]
    },
    {
      "cell_type": "code",
      "metadata": {
        "id": "p3rOtDGjjHLM",
        "colab_type": "code",
        "colab": {
          "base_uri": "https://localhost:8080/",
          "height": 102
        },
        "outputId": "d5285d79-01e2-4f19-a229-28b1cd8cf61a"
      },
      "source": [
        "eigen_pairs=[(np.abs(eigen_values[i]),eigen_vectors[:,i])for i in range (len(eigen_values))]\n",
        "eigen_pairs.sort(key=lambda x: x[0], reverse=True)\n",
        "print(\"Eigen values arranged in descending order->\")\n",
        "for i in eigen_pairs:\n",
        "  print(i[0])"
      ],
      "execution_count": 33,
      "outputs": [
        {
          "output_type": "stream",
          "text": [
            "Eigen values arranged in descending order->\n",
            "4.228241706034864\n",
            "0.24267074792863386\n",
            "0.07820950004291899\n",
            "0.02383509297345008\n"
          ],
          "name": "stdout"
        }
      ]
    },
    {
      "cell_type": "markdown",
      "metadata": {
        "id": "2FKZeiP5kjm9",
        "colab_type": "text"
      },
      "source": [
        "The eigen vectors with the lowest eigen values holds least information regarding the distribution of the data.\n",
        "On ranking the eigen values from highest to lowest in order to choose the top k eigen vectors."
      ]
    },
    {
      "cell_type": "code",
      "metadata": {
        "id": "anB2C41Y5--O",
        "colab_type": "code",
        "colab": {
          "base_uri": "https://localhost:8080/",
          "height": 34
        },
        "outputId": "6b590933-5d9d-4dd4-8f9b-e86ee1780268"
      },
      "source": [
        "X=df.drop('species',1)\n",
        "y=df['species']\n",
        "\n",
        "\n",
        "#Let's split dataset into training set and test set, to check later on whether or not our classifier works correctly.\n",
        "X_train,X_test,y_train,y_test = train_test_split(X,y, test_size=0.2, random_state=0)\n",
        "\n",
        "\n",
        "sc=StandardScaler()\n",
        "X_train=sc.fit_transform(X_train)\n",
        "X_test=sc.transform(X_test)\n",
        "\n",
        "\n",
        "pca=PCA()\n",
        "X_train=pca.fit_transform(X_train)\n",
        "X_test=pca.transform(X_test)\n",
        "pca.explained_variance_ratio_"
      ],
      "execution_count": 34,
      "outputs": [
        {
          "output_type": "execute_result",
          "data": {
            "text/plain": [
              "array([0.72226528, 0.23974795, 0.03338117, 0.0046056 ])"
            ]
          },
          "metadata": {
            "tags": []
          },
          "execution_count": 34
        }
      ]
    },
    {
      "cell_type": "markdown",
      "metadata": {
        "id": "juUMCwbI8Jp9",
        "colab_type": "text"
      },
      "source": [
        "Here we calculated explained variance from the eigen values. The explained variance tells us how much of variance can be attributed to each of the principal components."
      ]
    },
    {
      "cell_type": "code",
      "metadata": {
        "id": "sPIxMQAdprXn",
        "colab_type": "code",
        "colab": {
          "base_uri": "https://localhost:8080/",
          "height": 441
        },
        "outputId": "ba90563f-5332-45f1-f109-61ed5c6d05dc"
      },
      "source": [
        "pc=sum(pca.explained_variance_ratio_)\n",
        "explained_var=[(i/pc)*100 for i in sorted(pca.explained_variance_ratio_,reverse=True)]\n",
        "exp_cum_var= np.cumsum(explained_var)\n",
        "\n",
        "with plt.style.context('seaborn-whitegrid'):\n",
        "  plt.figure(figsize=(6,6))\n",
        "\n",
        "  plt.bar(range(4), explained_var, alpha=0.9, align='center', label='Individual Explained Variance')\n",
        "  plt.step(range(4),exp_cum_var, where='mid', label='Cumulative Explained Variance')\n",
        "  plt.ylabel('Explained Variance Ratio')\n",
        "  plt.xlabel('Principal Components')\n",
        "  plt.legend(loc='best')\n",
        "  plt.tight_layout()\n",
        "          "
      ],
      "execution_count": 35,
      "outputs": [
        {
          "output_type": "display_data",
          "data": {
            "image/png": "[encoded data removed]",
            "text/plain": [
              "<Figure size 432x432 with 1 Axes>"
            ]
          },
          "metadata": {
            "tags": []
          }
        }
      ]
    },
    {
      "cell_type": "markdown",
      "metadata": {
        "id": "Vm6IwYdvXqhe",
        "colab_type": "text"
      },
      "source": [
        "From the above graph, majority of the variance i.e 72.2% can be elaborated only by the first principal component itself.The second principal component holds 23.97% of the informtion.While the third and fourth principal component comprises of 3.3% and 0.46% of the information reapectively, hence then can be neglected."
      ]
    },
    {
      "cell_type": "code",
      "metadata": {
        "id": "tvcyzK1YdZkm",
        "colab_type": "code",
        "colab": {
          "base_uri": "https://localhost:8080/",
          "height": 85
        },
        "outputId": "416035de-e6d2-4901-e9c3-1c7394a39920"
      },
      "source": [
        "featurevector=eigen_vectors[:,:2]\n",
        "#Prints feature vector.\n",
        "featurevector\n",
        "\n",
        "#A feature vector is a vector containing multiple elements about an object. "
      ],
      "execution_count": 36,
      "outputs": [
        {
          "output_type": "execute_result",
          "data": {
            "text/plain": [
              "array([[ 0.36138659, -0.65658877],\n",
              "       [-0.08452251, -0.73016143],\n",
              "       [ 0.85667061,  0.17337266],\n",
              "       [ 0.3582892 ,  0.07548102]])"
            ]
          },
          "metadata": {
            "tags": []
          },
          "execution_count": 36
        }
      ]
    },
    {
      "cell_type": "code",
      "metadata": {
        "id": "nDSNVnuzvEgd",
        "colab_type": "code",
        "colab": {}
      },
      "source": [
        "featurevector_t=np.transpose(featurevector)\n",
        "H_t=np.transpose(H)\n",
        "#Here H is the original dataset."
      ],
      "execution_count": 37,
      "outputs": []
    },
    {
      "cell_type": "code",
      "metadata": {
        "id": "VA_LWEF6IMpz",
        "colab_type": "code",
        "colab": {}
      },
      "source": [
        "new_dataset_t=np.matmul(featurevector_t, H_t)\n",
        "new_dataset=np.transpose(new_dataset_t)"
      ],
      "execution_count": 38,
      "outputs": []
    },
    {
      "cell_type": "code",
      "metadata": {
        "id": "pv2nU5jPHmYD",
        "colab_type": "code",
        "colab": {
          "base_uri": "https://localhost:8080/",
          "height": 34
        },
        "outputId": "9b19b60e-5f25-463f-fa28-de4768d08ba3"
      },
      "source": [
        "new_dataset.shape\n",
        "#Returns the shape of the dataset."
      ],
      "execution_count": 39,
      "outputs": [
        {
          "output_type": "execute_result",
          "data": {
            "text/plain": [
              "(150, 2)"
            ]
          },
          "metadata": {
            "tags": []
          },
          "execution_count": 39
        }
      ]
    },
    {
      "cell_type": "markdown",
      "metadata": {
        "id": "T_-ntl3W67-p",
        "colab_type": "text"
      },
      "source": [
        "This is the shape of the newly reduced 2D dataset."
      ]
    },
    {
      "cell_type": "code",
      "metadata": {
        "id": "FJ_h2wZD278x",
        "colab_type": "code",
        "colab": {
          "base_uri": "https://localhost:8080/",
          "height": 86
        },
        "outputId": "52c6872b-faa6-44d6-e0e2-01392209df82"
      },
      "source": [
        "'''# create new DataFrame\n",
        "tp = pd.DataFrame(data=new_dataset, columns=['Principal Component 1', 'Principal Component 2'])\n",
        "y = pd.Series(iris.target)\n",
        "y = y.replace(0, 'Iris-setosa')\n",
        "y = y.replace(1, 'Iris-versicolor')\n",
        "y = y.replace(2, 'Iris-virginica')\n",
        "tp['Target'] = y \n",
        "\n",
        "# plot 2D data\n",
        "sns.lmplot(x='Principal Component 1', y='Principal Component 2', data=tp, hue='Target', fit_reg=False, legend=True)'''"
      ],
      "execution_count": 40,
      "outputs": [
        {
          "output_type": "execute_result",
          "data": {
            "application/vnd.google.colaboratory.intrinsic": {
              "type": "string"
            },
            "text/plain": [
              "\"# create new DataFrame\\ntp = pd.DataFrame(data=new_dataset, columns=['Principal Component 1', 'Principal Component 2'])\\ny = pd.Series(iris.target)\\ny = y.replace(0, 'Iris-setosa')\\ny = y.replace(1, 'Iris-versicolor')\\ny = y.replace(2, 'Iris-virginica')\\ntp['Target'] = y \\n\\n# plot 2D data\\nsns.lmplot(x='Principal Component 1', y='Principal Component 2', data=tp, hue='Target', fit_reg=False, legend=True)\""
            ]
          },
          "metadata": {
            "tags": []
          },
          "execution_count": 40
        }
      ]
    },
    {
      "cell_type": "code",
      "metadata": {
        "id": "Yd2zAhxPD0l8",
        "colab_type": "code",
        "colab": {}
      },
      "source": [
        "#Split data table into data B and species label c\n",
        "B=df.iloc[:,0:4].values\n",
        "c=df.iloc[:,4].values\n",
        "\n",
        "X_std=StandardScaler().fit_transform(B)"
      ],
      "execution_count": 41,
      "outputs": []
    },
    {
      "cell_type": "code",
      "metadata": {
        "id": "BrBgeG4pDyWt",
        "colab_type": "code",
        "colab": {
          "base_uri": "https://localhost:8080/",
          "height": 297
        },
        "outputId": "2bb7c7fb-9295-4be3-de4c-c104117917c6"
      },
      "source": [
        "from sklearn.decomposition import PCA as sklearnPCA\n",
        "\n",
        "sklearn_pca = sklearnPCA(n_components=2)\n",
        "Y_sklearn = sklearn_pca.fit_transform(X_std)\n",
        "\n",
        "\n",
        "with plt.style.context('seaborn-whitegrid'):\n",
        "    plt.figure(figsize=(6, 4))\n",
        "    for lab, col in zip(('Iris-setosa', 'Iris-versicolor', 'Iris-virginica'),\n",
        "                        ('blue', 'red', 'green')):\n",
        "        plt.scatter(Y_sklearn[y==lab, 0],\n",
        "                    Y_sklearn[y==lab, 1],\n",
        "                    label=lab,\n",
        "                    c=col)\n",
        "    plt.xlabel('Principal Component 1')\n",
        "    plt.ylabel('Principal Component 2')\n",
        "    plt.legend(loc='best')\n",
        "    plt.tight_layout()\n",
        "    # plot 2D data\n",
        "    plt.show()\n",
        "   "
      ],
      "execution_count": 42,
      "outputs": [
        {
          "output_type": "display_data",
          "data": {
            "image/png": "[encoded data removed]",
            "text/plain": [
              "<Figure size 432x288 with 1 Axes>"
            ]
          },
          "metadata": {
            "tags": []
          }
        }
      ]
    },
    {
      "cell_type": "markdown",
      "metadata": {
        "id": "QjX-nETOONdJ",
        "colab_type": "text"
      },
      "source": [
        "This section is just plotting 2 dimensional data. Notice on the graph that the classes seem well separated from each other."
      ]
    },
    {
      "cell_type": "code",
      "metadata": {
        "id": "VkDM01hQvbmu",
        "colab_type": "code",
        "colab": {
          "base_uri": "https://localhost:8080/",
          "height": 85
        },
        "outputId": "6f3725b9-5b9b-48e1-e432-765d3b807a1f"
      },
      "source": [
        "from sklearn.ensemble import RandomForestClassifier\n",
        "#A random forest is a meta estimator that isused for averaging and to improve the predictive accuracy and control over-fitting.\n",
        "classifier = RandomForestClassifier(n_estimators=100)\n",
        "classifier.fit(X_train, y_train)\n",
        "y_predict = classifier.predict(X_test)\n",
        "#This code is used for predicting the test set results.\n",
        "\n",
        "from sklearn.metrics import confusion_matrix\n",
        "from sklearn.metrics import accuracy_score\n",
        "cm = confusion_matrix(y_test, y_predict)\n",
        "print(cm)\n",
        "accuracy1= accuracy_score(y_test, y_predict)*100\n",
        "print('Accuracy of our model using Random Forest Classifier is equal to: ' + str(round(accuracy1, 2)) + ' %.')\n",
        "\n"
      ],
      "execution_count": 43,
      "outputs": [
        {
          "output_type": "stream",
          "text": [
            "[[11  0  0]\n",
            " [ 0 13  0]\n",
            " [ 0  0  6]]\n",
            "Accuracy of our model using Random Forest Classifier is equal to: 100.0 %.\n"
          ],
          "name": "stdout"
        }
      ]
    },
    {
      "cell_type": "code",
      "metadata": {
        "id": "jihIsJcvZbEa",
        "colab_type": "code",
        "colab": {
          "base_uri": "https://localhost:8080/",
          "height": 85
        },
        "outputId": "3aa5f775-f03a-40db-9883-4cc863001f75"
      },
      "source": [
        "from sklearn.neighbors import KNeighborsClassifier\n",
        "from sklearn import metrics\n",
        " \n",
        " \n",
        "knn = KNeighborsClassifier(n_neighbors=3)\n",
        "knn.fit(X_train, y_train)\n",
        "y_pred = knn.predict(X_test)\n",
        "    \n",
        "cn= confusion_matrix(y_test, y_pred)\n",
        "print(cn)\n",
        "accuracy2 = accuracy_score(y_test, y_pred)*100\n",
        "print('Accuracy of our model using KNN technique is equal to:' + str(round(accuracy2, 2)) + '%.')\n",
        " \n",
        "#Calculating model accuracy:"
      ],
      "execution_count": 44,
      "outputs": [
        {
          "output_type": "stream",
          "text": [
            "[[11  0  0]\n",
            " [ 0 13  0]\n",
            " [ 0  1  5]]\n",
            "Accuracy of our model using KNN technique is equal to:96.67%.\n"
          ],
          "name": "stdout"
        }
      ]
    },
    {
      "cell_type": "code",
      "metadata": {
        "id": "HTHq_izQWUsj",
        "colab_type": "code",
        "colab": {
          "base_uri": "https://localhost:8080/",
          "height": 85
        },
        "outputId": "e7fcdaa4-afec-4d97-d88a-59fc77592c55"
      },
      "source": [
        "from sklearn.svm import SVC\n",
        "\n",
        " \n",
        " \n",
        "# SVM Classifier model\n",
        "svm_clf = SVC()\n",
        "svm_clf.fit(X_train, y_train) \n",
        "\n",
        "\n",
        "# Testing and checking the accuracy\n",
        "from sklearn.metrics import accuracy_score\n",
        " \n",
        "y_pred1 = svm_clf.predict(X_test)\n",
        "     \n",
        "cz= confusion_matrix(y_test, y_pred1)\n",
        "print(cz)\n",
        "# Accuracy\n",
        "accuracy3 = accuracy_score(y_test, y_pred1)*100\n",
        "print('Accuracy of our model using SVM is equal to: ' + str(round(accuracy3, 2)) + '%.')"
      ],
      "execution_count": 45,
      "outputs": [
        {
          "output_type": "stream",
          "text": [
            "[[11  0  0]\n",
            " [ 0 13  0]\n",
            " [ 0  0  6]]\n",
            "Accuracy of our model using SVM is equal to: 100.0%.\n"
          ],
          "name": "stdout"
        }
      ]
    },
    {
      "cell_type": "code",
      "metadata": {
        "id": "oNwrIvdGj6ud",
        "colab_type": "code",
        "colab": {
          "base_uri": "https://localhost:8080/",
          "height": 85
        },
        "outputId": "7a7f99a0-0eac-4729-c504-57562953fbf1"
      },
      "source": [
        "from sklearn.linear_model import LogisticRegression\n",
        "logisticRegr = LogisticRegression(solver = 'lbfgs')\n",
        "logisticRegr.fit(X_train, y_train)\n",
        "y_pred2=logisticRegr.predict(X_test)\n",
        "cx= confusion_matrix(y_test, y_pred2)\n",
        "print(cx)\n",
        "# Model accuracy\n",
        "accuracy4 = accuracy_score(y_test, y_pred2)*100\n",
        "print('Accuracy of our model using logical regression is equal to:' + str(round(accuracy4, 2)) + '%.')"
      ],
      "execution_count": 46,
      "outputs": [
        {
          "output_type": "stream",
          "text": [
            "[[11  0  0]\n",
            " [ 0 13  0]\n",
            " [ 0  0  6]]\n",
            "Accuracy of our model using logical regression is equal to:100.0%.\n"
          ],
          "name": "stdout"
        }
      ]
    },
    {
      "cell_type": "markdown",
      "metadata": {
        "id": "41wmB0a4Cwp_",
        "colab_type": "text"
      },
      "source": [
        " Thus, we can see that that the accuracy of the model depends on the technique that we are using. "
      ]
    }
  ]
}